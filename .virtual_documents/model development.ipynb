%load_ext autoreload
%autoreload 2


#Preprocess data
!python -m utility.data_preprocessing


# Carry out feature Extraction
!python -m utility.feature_engineering


# Training the models
!python -m utility.model_training


# Evaluate the models
!python -m utility.model_evaluation


# Cross_validate the models
!python -m utility.cross_validate


# Obtain report on the performance of the best model
!python -m utility.performance_report
